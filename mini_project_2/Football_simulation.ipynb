{
 "cells": [
  {
   "cell_type": "code",
   "execution_count": null,
   "id": "1b832e9f-2f3e-4633-a356-6023150b3be0",
   "metadata": {},
   "outputs": [],
   "source": [
    "using JSON\n",
    "using DataFrames\n",
    "using StatsPlots\n",
    "using Turing\n",
    "using LinearAlgebra\n",
    "using Random\n",
    "using StatsBase\n",
    "gr()"
   ]
  },
  {
   "cell_type": "markdown",
   "id": "a5f30ff1-7959-44c1-af97-47bf007a05ef",
   "metadata": {},
   "source": [
    "### Multi-level model using football match simulation as an example"
   ]
  },
  {
   "cell_type": "code",
   "execution_count": null,
   "id": "3d47c904-645d-4c6d-bce9-277aa29ab0a7",
   "metadata": {},
   "outputs": [],
   "source": [
    "## First, import the data and do some data wrangling\n",
    "\n",
    "england_league = JSON.parsefile(\"./data/matches_England.json\")\n",
    "\n",
    "matches_df = DataFrame(home = [], away = [], score_home = [], score_away = [])"
   ]
  },
  {
   "cell_type": "code",
   "execution_count": null,
   "id": "23b33766-1e7f-44fa-a352-e8d560c5265d",
   "metadata": {},
   "outputs": [],
   "source": [
    "# example entry for each game in england_league:  \"label\" => \"Burnley - AFC Bournemouth, 1 - 2\"\n",
    "matches = []\n",
    "for match in england_league\n",
    "    push!(matches, split(match[\"label\"], \",\")) # \"Burnley - AFC Bournemouth\" # \"1 - 2\"\n",
    "end\n",
    "\n",
    "for match in matches\n",
    "    home, away = split(match[1], \" - \")  # \"Burnley\" # \"AFC Bournemouth\" \n",
    "    score_home, score_away = split(match[2], \" - \") # \"1\" # \"2\"\n",
    "    push!(matches_df,[home, away, parse(Int,score_home), parse(Int,score_away)])\n",
    "end\n",
    "\n",
    "matches_df\n",
    "\n",
    "teams = unique(collect(matches_df[:,1]))"
   ]
  },
  {
   "cell_type": "code",
   "execution_count": null,
   "id": "cf6c13db-c1d2-4422-a3cb-11f5fa445edf",
   "metadata": {},
   "outputs": [],
   "source": [
    "## Now, our model\n",
    "\n",
    "@model function football_matches(home_teams, away_teams, score_home, score_away, teams)\n",
    "\n",
    "    # Hyper priors\n",
    "    μatt ~ Normal(0, 0.1)\n",
    "    μdef ~ Normal(0, 0.1)\n",
    "    σatt ~ Exponential(1)\n",
    "    σdef ~ Exponential(1)\n",
    "    home ~ Normal(0, 1)\n",
    "        \n",
    "    # Team-specific effects\n",
    "    \n",
    "    att = zeros(length(teams))\n",
    "    def = zeros(length(teams))\n",
    "    \n",
    "    for i in 1:length(teams)\n",
    "        att[i] ~ Normal(μatt, σatt)\n",
    "        def[i] ~ Normal(μdef, σdef)\n",
    "    end\n",
    "\n",
    "    #att ~ filldist(Normal(μatt, σatt), length(teams))  # more compact than for-loops\n",
    "    #def ~ filldist(Normal(μdef, σdef), length(teams))\n",
    "    \n",
    "    offset = mean(att) + mean(def)\n",
    "    \n",
    "    # the number of matches\n",
    "    n_matches = length(home_teams)\n",
    "\n",
    "    # scoring rates θ\n",
    "    θ_home = Vector{Real}(undef, n_matches)     # or just θ_home = zeros(n_matches)\n",
    "    θ_away = Vector{Real}(undef, n_matches)     # or just θ_away = zeros(n_matches)\n",
    "        \n",
    "    # Modeling score-rate and scores for each match\n",
    "    for i in 1:n_matches\n",
    "        # scoring rate\n",
    "        home_team_idx = findfirst(isequal(home_teams[i]), teams)\n",
    "        away_team_idx = findfirst(isequal(away_teams[i]), teams)\n",
    "\n",
    "        θ_home[i] = home + att[home_team_idx] + def[away_team_idx] - offset\n",
    "        θ_away[i] = att[away_team_idx] + def[home_team_idx] - offset\n",
    "\n",
    "        # scores\n",
    "        score_home[i] ~ Poisson(exp(θ_home[i]))  # To ensure positive λ for Poisson distribution\n",
    "        score_away[i] ~ Poisson(exp(θ_away[i]))\n",
    "    end\n",
    "end"
   ]
  },
  {
   "cell_type": "code",
   "execution_count": null,
   "id": "dc39d392-193d-4fb4-bd80-d4888dc869fd",
   "metadata": {},
   "outputs": [],
   "source": [
    "model = football_matches(matches_df[:,1], matches_df[:,2], matches_df[:,3], matches_df[:,4], teams);\n",
    "num_samples = 3000\n",
    "posterior = sample(model, NUTS(), num_samples);"
   ]
  },
  {
   "cell_type": "code",
   "execution_count": null,
   "id": "3a1673ab-9c26-4185-86c3-d66fd4e2bcbd",
   "metadata": {},
   "outputs": [],
   "source": [
    "posterior_df=DataFrame(posterior)"
   ]
  },
  {
   "cell_type": "code",
   "execution_count": null,
   "id": "01978737",
   "metadata": {},
   "outputs": [],
   "source": [
    "DataFrames.transform!(posterior_df, AsTable(Between(\"att[1]\",\"att[20]\")) => ByRow(mean) => :att_mean)\n",
    "DataFrames.transform!(posterior_df, AsTable(Between(\"def[1]\",\"def[20]\")) => ByRow(mean) => :def_mean)\n",
    "DataFrames.transform!(posterior_df, AsTable([:att_mean,:def_mean]) => ByRow(sum) => :offset)"
   ]
  },
  {
   "cell_type": "code",
   "execution_count": null,
   "id": "0bff7060-1080-4b64-9b9d-6c08d987e1bd",
   "metadata": {},
   "outputs": [],
   "source": [
    "# For this example, we are interested in a pair of teams (no need to use map for all teams)\n",
    "\n",
    "teamA = \"Manchester City\"\n",
    "teamB = \"Manchester United\"\n",
    "\n",
    "teamA_id = findfirst(isequal(teamA), teams)\n",
    "teamB_id = findfirst(isequal(teamB), teams)\n",
    "\n",
    "teamA_att_post = posterior_df[:,\"att[$teamA_id]\"]\n",
    "teamA_def_post = posterior_df[:,\"def[$teamA_id]\"]\n",
    "\n",
    "teamB_att_post = posterior_df[:,\"att[$teamB_id]\"]\n",
    "teamB_def_post = posterior_df[:,\"def[$teamB_id]\"]"
   ]
  },
  {
   "cell_type": "code",
   "execution_count": null,
   "id": "a63292da-8d0f-4b10-bf03-acb92b715726",
   "metadata": {},
   "outputs": [],
   "source": [
    "ha1 = histogram(teamA_att_post, title=teamA*\" attack\", titlefontsize = 12, legend=false, normalized=true);\n",
    "ha2 = histogram(teamB_att_post, title=teamB*\" attack\", titlefontsize = 12, legend=false, normalized=true);\n",
    "plot(ha1, ha2, layout=(1,2));\n",
    "xlabel!(\"Attack power\");\n",
    "ylabel!(\"Probability density\")"
   ]
  },
  {
   "cell_type": "code",
   "execution_count": null,
   "id": "acc19700-be49-4de2-a5f0-86f89b50447a",
   "metadata": {},
   "outputs": [],
   "source": [
    "hd1 = histogram(teamA_def_post, title=teamA*\" defense\", titlefontsize = 12, legend=false, normalized=true);\n",
    "hd2 = histogram(teamB_def_post, title=teamB*\" defense\", titlefontsize = 12, legend=false, normalized=true);\n",
    "plot(hd1, hd2, layout=(1,2));\n",
    "xlabel!(\"Defense power\");\n",
    "ylabel!(\"Probability density\")"
   ]
  },
  {
   "cell_type": "markdown",
   "id": "7e657b53-6c90-4ec6-80df-16f9d3559d73",
   "metadata": {},
   "source": [
    "### Mini Project\n",
    "\n",
    "Consult the lecture notes."
   ]
  },
  {
   "cell_type": "code",
   "execution_count": null,
   "id": "b1655e6d-4ffe-4dde-9078-a6799b4fa302",
   "metadata": {},
   "outputs": [],
   "source": [
    "using Plots\n",
    "\n",
    "Random.seed!(1234)\n",
    "\n",
    "# Simulate 500 hypothetical finals (each with 3000 posterior samples)\n",
    "sim_matches = 500\n",
    "\n",
    "# First leg: teamA is home, teamB is away\n",
    "θ_home = posterior_df[:, :home] + posterior_df[:, \"att[$teamA_id]\"] + posterior_df[:, \"def[$teamB_id]\"] - posterior_df[:, :offset]\n",
    "θ_away = posterior_df[:, \"att[$teamB_id]\"] + posterior_df[:, \"def[$teamA_id]\"] - posterior_df[:, :offset]\n",
    "\n",
    "teamA_score = rand.(Poisson.(exp.(θ_home)), sim_matches)\n",
    "print(len(teamA_score))\n",
    "teamB_score = rand.(Poisson.(exp.(θ_away)), sim_matches)\n",
    "\n",
    "# Second leg: teamA is away, teamB is home\n",
    "θ_home = posterior_df[:, :home] + posterior_df[:, \"att[$teamB_id]\"] + posterior_df[:, \"def[$teamA_id]\"] - posterior_df[:, :offset]\n",
    "θ_away = posterior_df[:, \"att[$teamA_id]\"] + posterior_df[:, \"def[$teamB_id]\"] - posterior_df[:, :offset]\n",
    "\n",
    "teamA_score += rand.(Poisson.(exp.(θ_away)), sim_matches)\n",
    "teamB_score += rand.(Poisson.(exp.(θ_home)), sim_matches)\n",
    "\n",
    "# Transform into long column vectors\n",
    "teamA_score = vcat(teamA_score...)\n",
    "teamB_score = vcat(teamB_score...)\n",
    "\n",
    "winA = sum(teamA_score .> teamB_score) / length(teamA_score)\n",
    "winB = sum(teamB_score .> teamA_score) / length(teamA_score)\n",
    "draw = sum(teamA_score .== teamB_score) / length(teamA_score)\n",
    "\n",
    "println(\"Winning probability of $teamA: $winA\")\n",
    "println(\"Winning probability of $teamB: $winB\")\n",
    "println(\"Draw probability: $draw\")\n",
    "\n",
    "# Define bins with discretization of 1\n",
    "x_min, x_max = floor(minimum(teamA_score)), ceil(maximum(teamA_score))\n",
    "y_min, y_max = floor(minimum(teamB_score)), ceil(maximum(teamB_score))\n",
    "\n",
    "x_edges = collect(x_min:x_max)  # Each integer gets its own bin\n",
    "y_edges = collect(y_min:y_max)  # Each integer gets its own bin\n",
    "\n",
    "# **Fixed title formatting**\n",
    "title_str = \"Simulated goals with posterior rates \\nacross $sim_matches game$(sim_matches > 1 ? \"s\" : \"\") with $num_samples sample$(num_samples > 1 ? \"s\" : \"\") each\"\n",
    "\n",
    "# Generate the 2D histogram with integer binning and **adjusted margins**\n",
    "hm = histogram2d(teamA_score, teamB_score, bins=(x_edges, y_edges),\n",
    "    xlabel=\"$teamA\", ylabel=\"$teamB\",\n",
    "    title=title_str, colorbar=true,\n",
    "    margin=10Plots.mm,  # Adds margin around the whole plot\n",
    "    left_margin=10Plots.mm, right_margin=15Plots.mm,  # Extra space for axis labels\n",
    "    top_margin=15Plots.mm, bottom_margin=10Plots.mm,  # More space for the title and x-axis label\n",
    "    size=(800, 600))  # Increase plot size\n",
    "\n",
    "# Ensure tick marks are placed at each integer value\n",
    "xticks!(x_edges)\n",
    "yticks!(y_edges)\n",
    "\n",
    "display(hm)  # Render the plot\n",
    "println(\"Plot saved as football_match.png with increased margins.\")\n"
   ]
  }
 ],
 "metadata": {
  "kernelspec": {
   "display_name": "Julia 1.11.3",
   "language": "julia",
   "name": "julia-1.11"
  },
  "language_info": {
   "file_extension": ".jl",
   "mimetype": "application/julia",
   "name": "julia",
   "version": "1.11.3"
  }
 },
 "nbformat": 4,
 "nbformat_minor": 5
}
