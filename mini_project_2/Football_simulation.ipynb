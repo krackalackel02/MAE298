{
 "cells": [
  {
   "cell_type": "code",
   "execution_count": null,
   "id": "1b832e9f-2f3e-4633-a356-6023150b3be0",
   "metadata": {},
   "outputs": [],
   "source": [
    "using JSON\n",
    "using DataFrames\n",
    "using StatsPlots\n",
    "using Turing\n",
    "using LinearAlgebra\n",
    "using Random\n"
   ]
  },
  {
   "cell_type": "markdown",
   "id": "a5f30ff1-7959-44c1-af97-47bf007a05ef",
   "metadata": {},
   "source": [
    "### Multi-level model using football match simulation as an example"
   ]
  },
  {
   "cell_type": "code",
   "execution_count": null,
   "id": "3d47c904-645d-4c6d-bce9-277aa29ab0a7",
   "metadata": {},
   "outputs": [],
   "source": [
    "## First, import the data and do some data wrangling\n",
    "\n",
    "england_league = JSON.parsefile(\"./data/matches_England.json\")\n",
    "\n",
    "matches_df = DataFrame(home = [], away = [], score_home = [], score_away = [])"
   ]
  },
  {
   "cell_type": "code",
   "execution_count": null,
   "id": "23b33766-1e7f-44fa-a352-e8d560c5265d",
   "metadata": {},
   "outputs": [],
   "source": [
    "# example entry for each game in england_league:  \"label\" => \"Burnley - AFC Bournemouth, 1 - 2\"\n",
    "matches = []\n",
    "for match in england_league\n",
    "    push!(matches, split(match[\"label\"], \",\")) # \"Burnley - AFC Bournemouth\" # \"1 - 2\"\n",
    "end\n",
    "\n",
    "for match in matches\n",
    "    home, away = split(match[1], \" - \")  # \"Burnley\" # \"AFC Bournemouth\" \n",
    "    score_home, score_away = split(match[2], \" - \") # \"1\" # \"2\"\n",
    "    push!(matches_df,[home, away, parse(Int,score_home), parse(Int,score_away)])\n",
    "end\n",
    "\n",
    "matches_df\n",
    "\n",
    "teams = unique(collect(matches_df[:,1]))"
   ]
  },
  {
   "cell_type": "code",
   "execution_count": null,
   "id": "cf6c13db-c1d2-4422-a3cb-11f5fa445edf",
   "metadata": {},
   "outputs": [],
   "source": [
    "## Now, our model\n",
    "\n",
    "@model function football_matches(home_teams, away_teams, score_home, score_away, teams)\n",
    "\n",
    "    # Hyper priors\n",
    "    μatt ~ Normal(0, 0.1)\n",
    "    μdef ~ Normal(0, 0.1)\n",
    "    σatt ~ Exponential(1)\n",
    "    σdef ~ Exponential(1)\n",
    "    home ~ Normal(0, 1)\n",
    "        \n",
    "    # Team-specific effects\n",
    "    \n",
    "    att = zeros(length(teams))\n",
    "    def = zeros(length(teams))\n",
    "    \n",
    "    for i in 1:length(teams)\n",
    "        att[i] ~ Normal(μatt, σatt)\n",
    "        def[i] ~ Normal(μdef, σdef)\n",
    "    end\n",
    "\n",
    "    #att ~ filldist(Normal(μatt, σatt), length(teams))  # more compact than for-loops\n",
    "    #def ~ filldist(Normal(μdef, σdef), length(teams))\n",
    "    \n",
    "    offset = mean(att) + mean(def)\n",
    "    \n",
    "    # the number of matches\n",
    "    n_matches = length(home_teams)\n",
    "\n",
    "    # scoring rates θ\n",
    "    θ_home = Vector{Real}(undef, n_matches)     # or just θ_home = zeros(n_matches)\n",
    "    θ_away = Vector{Real}(undef, n_matches)     # or just θ_away = zeros(n_matches)\n",
    "        \n",
    "    # Modeling score-rate and scores for each match\n",
    "    for i in 1:n_matches\n",
    "        # scoring rate\n",
    "        home_team_idx = findfirst(isequal(home_teams[i]), teams)\n",
    "        away_team_idx = findfirst(isequal(away_teams[i]), teams)\n",
    "\n",
    "        θ_home[i] = home + att[home_team_idx] + def[away_team_idx] - offset\n",
    "        θ_away[i] = att[away_team_idx] + def[home_team_idx] - offset\n",
    "\n",
    "        # scores\n",
    "        score_home[i] ~ Poisson(exp(θ_home[i]))  # To ensure positive λ for Poisson distribution\n",
    "        score_away[i] ~ Poisson(exp(θ_away[i]))\n",
    "    end\n",
    "end"
   ]
  },
  {
   "cell_type": "code",
   "execution_count": null,
   "id": "dc39d392-193d-4fb4-bd80-d4888dc869fd",
   "metadata": {},
   "outputs": [],
   "source": [
    "model = football_matches(matches_df[:,1], matches_df[:,2], matches_df[:,3], matches_df[:,4], teams);\n",
    "\n",
    "posterior = sample(model, NUTS(), 3000)"
   ]
  },
  {
   "cell_type": "code",
   "execution_count": null,
   "id": "3a1673ab-9c26-4185-86c3-d66fd4e2bcbd",
   "metadata": {},
   "outputs": [],
   "source": [
    "posterior_df=DataFrame(posterior)"
   ]
  },
  {
   "cell_type": "code",
   "execution_count": null,
   "id": "01978737",
   "metadata": {},
   "outputs": [],
   "source": [
    "DataFrames.transform!(posterior_df, AsTable(Between(\"att[1]\",\"att[20]\")) => ByRow(mean) => :att_mean)\n",
    "DataFrames.transform!(posterior_df, AsTable(Between(\"def[1]\",\"def[20]\")) => ByRow(mean) => :def_mean)\n",
    "DataFrames.transform!(posterior_df, AsTable([:att_mean,:def_mean]) => ByRow(sum) => :offset)"
   ]
  },
  {
   "cell_type": "code",
   "execution_count": null,
   "id": "0bff7060-1080-4b64-9b9d-6c08d987e1bd",
   "metadata": {},
   "outputs": [],
   "source": [
    "# For this example, we are interested in a pair of teams (no need to use map for all teams)\n",
    "\n",
    "teamA = \"Manchester City\"\n",
    "teamB = \"Manchester United\"\n",
    "\n",
    "teamA_id = findfirst(isequal(teamA), teams)\n",
    "teamB_id = findfirst(isequal(teamB), teams)\n",
    "\n",
    "teamA_att_post = posterior_df[:,\"att[$teamA_id]\"]\n",
    "teamA_def_post = posterior_df[:,\"def[$teamA_id]\"]\n",
    "\n",
    "teamB_att_post = posterior_df[:,\"att[$teamB_id]\"]\n",
    "teamB_def_post = posterior_df[:,\"def[$teamB_id]\"]"
   ]
  },
  {
   "cell_type": "code",
   "execution_count": null,
   "id": "a63292da-8d0f-4b10-bf03-acb92b715726",
   "metadata": {},
   "outputs": [],
   "source": [
    "ha1 = histogram(teamA_att_post, title=teamA*\" attack\", titlefontsize = 12, legend=false, normalized=true);\n",
    "ha2 = histogram(teamB_att_post, title=teamB*\" attack\", titlefontsize = 12, legend=false, normalized=true);\n",
    "plot(ha1, ha2, layout=(1,2));\n",
    "xlabel!(\"Attack power\");\n",
    "ylabel!(\"Probability density\")"
   ]
  },
  {
   "cell_type": "code",
   "execution_count": null,
   "id": "acc19700-be49-4de2-a5f0-86f89b50447a",
   "metadata": {},
   "outputs": [],
   "source": [
    "hd1 = histogram(teamA_def_post, title=teamA*\" defense\", titlefontsize = 12, legend=false, normalized=true);\n",
    "hd2 = histogram(teamB_def_post, title=teamB*\" defense\", titlefontsize = 12, legend=false, normalized=true);\n",
    "plot(hd1, hd2, layout=(1,2));\n",
    "xlabel!(\"Defense power\");\n",
    "ylabel!(\"Probability density\")"
   ]
  },
  {
   "cell_type": "markdown",
   "id": "7e657b53-6c90-4ec6-80df-16f9d3559d73",
   "metadata": {},
   "source": [
    "### Mini Project\n",
    "\n",
    "Consult the lecture notes."
   ]
  },
  {
   "cell_type": "code",
   "execution_count": null,
   "id": "b1655e6d-4ffe-4dde-9078-a6799b4fa302",
   "metadata": {},
   "outputs": [],
   "source": [
    "Random.seed!(1234)\n",
    "# hint: let's simulate 500 hypothetical finals (then you will have a total of 3000*500 samples)\n",
    "\n",
    "# first leg: teamA is the home team and teamB is the away team\n",
    "\n",
    "θ_home = posterior_df[:,:home] + posterior_df[:,\"att[$teamA_id]\"] + posterior_df[:,\"def[$teamB_id]\"] - posterior_df[:,:offset]\n",
    "#θ_away = \n",
    "\n",
    "teamA_score = rand.(Poisson.(exp.(θ_home)),500)\n",
    "#teamB_score = \n",
    "\n",
    "# second leg: teamA is the away team and teamB is the home team\n",
    "\n",
    "#θ_home = \n",
    "#θ_away = \n",
    "\n",
    "#teamA_score += rand.(Poisson.(exp.(θ_away)),500)  # add the first-leg result with the second-leg result\n",
    "#teamB_score = \n",
    "\n",
    "# transform into long column vectors\n",
    "teamA_score = vcat(teamA_score...)\n",
    "#teamB_score = vcat(teamB_score...)\n"
   ]
  }
 ],
 "metadata": {
  "kernelspec": {
   "display_name": "Julia 1.11.3",
   "language": "julia",
   "name": "julia-1.11"
  },
  "language_info": {
   "file_extension": ".jl",
   "mimetype": "application/julia",
   "name": "julia",
   "version": "1.11.3"
  }
 },
 "nbformat": 4,
 "nbformat_minor": 5
}
